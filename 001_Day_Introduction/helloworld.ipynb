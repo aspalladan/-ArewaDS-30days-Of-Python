{
 "cells": [
  {
   "cell_type": "code",
   "execution_count": null,
   "metadata": {},
   "outputs": [],
   "source": [
    "# Introduction\n",
    "# Day 1 - 30DaysOfPython Assign\n",
    "# addition(+)\n",
    "print(2 + 3)   \n",
    "# subtraction(-)\n",
    "print(3 - 1) \n",
    "# multiplication(*)  \n",
    "print(2 * 3)   \n",
    "# division(/)\n",
    "print(3 / 2)   \n",
    "# exponential(**)\n",
    "print(3 ** 2)  \n",
    "# modulus(%)\n",
    "print(3 % 2)   \n",
    "# Floor division operator(//)\n",
    "print(3 // 2)  \n"
   ]
  }
 ],
 "metadata": {
  "language_info": {
   "name": "python"
  }
 },
 "nbformat": 4,
 "nbformat_minor": 2
}
